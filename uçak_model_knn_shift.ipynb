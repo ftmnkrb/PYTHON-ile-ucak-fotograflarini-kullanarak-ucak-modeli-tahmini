{
  "cells": [
    {
      "cell_type": "code",
      "execution_count": null,
      "metadata": {
        "id": "vSFstIc6ZyjY"
      },
      "outputs": [],
      "source": [
        "from sklearn.model_selection import GridSearchCV\n",
        "from tensorflow.keras.preprocessing.image import ImageDataGenerator, img_to_array, load_img\n",
        "from sklearn.neighbors import KNeighborsClassifier\n",
        "from tensorflow.keras.preprocessing.image import ImageDataGenerator\n",
        "from PIL import Image\n",
        "import matplotlib.pyplot as plt\n",
        "import numpy as np"
      ]
    },
    {
      "cell_type": "code",
      "execution_count": null,
      "metadata": {
        "id": "b8cl-ud2aAT1",
        "colab": {
          "base_uri": "https://localhost:8080/"
        },
        "outputId": "cb5dd14c-c77b-400d-ef14-a9d862025cb3"
      },
      "outputs": [
        {
          "output_type": "stream",
          "name": "stdout",
          "text": [
            "Mounted at /content/drive\n"
          ]
        }
      ],
      "source": [
        "from google.colab import drive\n",
        "drive.mount('/content/drive')"
      ]
    },
    {
      "cell_type": "code",
      "execution_count": null,
      "metadata": {
        "id": "_V-EDuwIZ5LQ"
      },
      "outputs": [],
      "source": [
        "# First we will define our train and test image paths...\n",
        "train_files_path = \"/content/drive/MyDrive/airplanedataset 2/Train\"\n",
        "test_files_path = \"/content/drive/MyDrive/airplanedataset 2/Test\""
      ]
    },
    {
      "cell_type": "code",
      "execution_count": null,
      "metadata": {
        "colab": {
          "base_uri": "https://localhost:8080/"
        },
        "id": "DMhs0FrwZ5OL",
        "outputId": "205946f6-5a71-4f2b-81c8-cb5729c019ca"
      },
      "outputs": [
        {
          "output_type": "stream",
          "name": "stdout",
          "text": [
            "Found 1832 images belonging to 5 classes.\n",
            "Found 111 images belonging to 5 classes.\n"
          ]
        }
      ],
      "source": [
        "# [4]\n",
        "# Let's build our train and test datasets from the directories of airplane images..\n",
        "train_data = ImageDataGenerator().flow_from_directory(train_files_path, target_size=(224,224))\n",
        "test_data = ImageDataGenerator().flow_from_directory(test_files_path, target_size=(224,224))\n",
        "\n"
      ]
    },
    {
      "cell_type": "code",
      "execution_count": null,
      "metadata": {
        "id": "5A_uIafQxrQQ",
        "colab": {
          "base_uri": "https://localhost:8080/"
        },
        "outputId": "ad46fa86-4405-4b85-9bd2-21e84c0712a2"
      },
      "outputs": [
        {
          "output_type": "error",
          "ename": "KeyboardInterrupt",
          "evalue": "",
          "traceback": [
            "\u001b[0;31m---------------------------------------------------------------------------\u001b[0m",
            "\u001b[0;31mKeyboardInterrupt\u001b[0m                         Traceback (most recent call last)",
            "\u001b[0;32m<ipython-input-8-ecc018be0e70>\u001b[0m in \u001b[0;36m<cell line: 19>\u001b[0;34m()\u001b[0m\n\u001b[1;32m     17\u001b[0m     \u001b[0;32mreturn\u001b[0m \u001b[0mnp\u001b[0m\u001b[0;34m.\u001b[0m\u001b[0mvstack\u001b[0m\u001b[0;34m(\u001b[0m\u001b[0msift_features\u001b[0m\u001b[0;34m)\u001b[0m\u001b[0;34m\u001b[0m\u001b[0;34m\u001b[0m\u001b[0m\n\u001b[1;32m     18\u001b[0m \u001b[0;34m\u001b[0m\u001b[0m\n\u001b[0;32m---> 19\u001b[0;31m \u001b[0mX_train_sift\u001b[0m \u001b[0;34m=\u001b[0m \u001b[0mextract_sift_features\u001b[0m\u001b[0;34m(\u001b[0m\u001b[0mtrain_data\u001b[0m\u001b[0;34m)\u001b[0m\u001b[0;34m\u001b[0m\u001b[0;34m\u001b[0m\u001b[0m\n\u001b[0m\u001b[1;32m     20\u001b[0m \u001b[0mX_test_sift\u001b[0m \u001b[0;34m=\u001b[0m \u001b[0mextract_sift_features\u001b[0m\u001b[0;34m(\u001b[0m\u001b[0mtest_data\u001b[0m\u001b[0;34m)\u001b[0m\u001b[0;34m\u001b[0m\u001b[0;34m\u001b[0m\u001b[0m\n",
            "\u001b[0;32m<ipython-input-8-ecc018be0e70>\u001b[0m in \u001b[0;36mextract_sift_features\u001b[0;34m(data_generator)\u001b[0m\n\u001b[1;32m     11\u001b[0m             \u001b[0;31m# Convert image to grayscale\u001b[0m\u001b[0;34m\u001b[0m\u001b[0;34m\u001b[0m\u001b[0m\n\u001b[1;32m     12\u001b[0m             \u001b[0mgray_image\u001b[0m \u001b[0;34m=\u001b[0m \u001b[0mcv2\u001b[0m\u001b[0;34m.\u001b[0m\u001b[0mcvtColor\u001b[0m\u001b[0;34m(\u001b[0m\u001b[0mimage\u001b[0m\u001b[0;34m.\u001b[0m\u001b[0mastype\u001b[0m\u001b[0;34m(\u001b[0m\u001b[0mnp\u001b[0m\u001b[0;34m.\u001b[0m\u001b[0muint8\u001b[0m\u001b[0;34m)\u001b[0m\u001b[0;34m,\u001b[0m \u001b[0mcv2\u001b[0m\u001b[0;34m.\u001b[0m\u001b[0mCOLOR_RGB2GRAY\u001b[0m\u001b[0;34m)\u001b[0m\u001b[0;34m\u001b[0m\u001b[0;34m\u001b[0m\u001b[0m\n\u001b[0;32m---> 13\u001b[0;31m             \u001b[0mkeypoints\u001b[0m\u001b[0;34m,\u001b[0m \u001b[0mdescriptors\u001b[0m \u001b[0;34m=\u001b[0m \u001b[0msift\u001b[0m\u001b[0;34m.\u001b[0m\u001b[0mdetectAndCompute\u001b[0m\u001b[0;34m(\u001b[0m\u001b[0mgray_image\u001b[0m\u001b[0;34m,\u001b[0m \u001b[0;32mNone\u001b[0m\u001b[0;34m)\u001b[0m\u001b[0;34m\u001b[0m\u001b[0;34m\u001b[0m\u001b[0m\n\u001b[0m\u001b[1;32m     14\u001b[0m             \u001b[0;32mif\u001b[0m \u001b[0mdescriptors\u001b[0m \u001b[0;32mis\u001b[0m \u001b[0;32mNone\u001b[0m\u001b[0;34m:\u001b[0m\u001b[0;34m\u001b[0m\u001b[0;34m\u001b[0m\u001b[0m\n\u001b[1;32m     15\u001b[0m                 \u001b[0;32mcontinue\u001b[0m\u001b[0;34m\u001b[0m\u001b[0;34m\u001b[0m\u001b[0m\n",
            "\u001b[0;31mKeyboardInterrupt\u001b[0m: "
          ]
        }
      ],
      "source": [
        "# [8]\n",
        "# SIFT feature extraction #asla bitmeyen kısım\n",
        "import cv2\n",
        "\n",
        "sift = cv2.SIFT_create()\n",
        "\n",
        "def extract_sift_features(data_generator):\n",
        "    sift_features = []\n",
        "    for images, _ in data_generator:\n",
        "        for image in images:\n",
        "            # Convert image to grayscale\n",
        "            gray_image = cv2.cvtColor(image.astype(np.uint8), cv2.COLOR_RGB2GRAY)\n",
        "            keypoints, descriptors = sift.detectAndCompute(gray_image, None)\n",
        "            if descriptors is None:\n",
        "                continue\n",
        "            sift_features.append(descriptors)\n",
        "    return np.vstack(sift_features)\n",
        "\n",
        "X_train_sift = extract_sift_features(train_data)\n",
        "X_test_sift = extract_sift_features(test_data)\n"
      ]
    },
    {
      "cell_type": "code",
      "execution_count": null,
      "metadata": {
        "id": "naJXLehPag5f"
      },
      "outputs": [],
      "source": [
        "# Reshape the images to vectors for KNN\n",
        "X_train = train_data[0][0].reshape(train_data[0][0].shape[0], -1)\n",
        "y_train = np.argmax(train_data[0][1], axis=1)\n",
        "\n",
        "X_test = test_data[0][0].reshape(test_data[0][0].shape[0], -1)\n",
        "y_test = np.argmax(test_data[0][1], axis=1)"
      ]
    },
    {
      "cell_type": "code",
      "execution_count": null,
      "metadata": {
        "colab": {
          "base_uri": "https://localhost:8080/",
          "height": 176
        },
        "id": "tIb5NSXEag8c",
        "outputId": "b547fefe-69da-4750-a5ee-470e38d599c1"
      },
      "outputs": [
        {
          "ename": "NameError",
          "evalue": "name 'X_train_sift' is not defined",
          "output_type": "error",
          "traceback": [
            "\u001b[0;31m---------------------------------------------------------------------------\u001b[0m",
            "\u001b[0;31mNameError\u001b[0m                                 Traceback (most recent call last)",
            "\u001b[0;32m<ipython-input-10-109a9001909e>\u001b[0m in \u001b[0;36m<cell line: 3>\u001b[0;34m()\u001b[0m\n\u001b[1;32m      1\u001b[0m \u001b[0;31m# Create and train KNN model with SIFT features\u001b[0m\u001b[0;34m\u001b[0m\u001b[0;34m\u001b[0m\u001b[0m\n\u001b[1;32m      2\u001b[0m \u001b[0mknn_model_sift\u001b[0m \u001b[0;34m=\u001b[0m \u001b[0mKNeighborsClassifier\u001b[0m\u001b[0;34m(\u001b[0m\u001b[0mn_neighbors\u001b[0m\u001b[0;34m=\u001b[0m\u001b[0;36m1\u001b[0m\u001b[0;34m,\u001b[0m \u001b[0mweights\u001b[0m\u001b[0;34m=\u001b[0m\u001b[0;34m'distance'\u001b[0m\u001b[0;34m,\u001b[0m \u001b[0mmetric\u001b[0m\u001b[0;34m=\u001b[0m\u001b[0;34m'euclidean'\u001b[0m\u001b[0;34m)\u001b[0m\u001b[0;34m\u001b[0m\u001b[0;34m\u001b[0m\u001b[0m\n\u001b[0;32m----> 3\u001b[0;31m \u001b[0mknn_model_sift\u001b[0m\u001b[0;34m.\u001b[0m\u001b[0mfit\u001b[0m\u001b[0;34m(\u001b[0m\u001b[0mX_train_sift\u001b[0m\u001b[0;34m,\u001b[0m \u001b[0my_train\u001b[0m\u001b[0;34m)\u001b[0m\u001b[0;34m\u001b[0m\u001b[0;34m\u001b[0m\u001b[0m\n\u001b[0m",
            "\u001b[0;31mNameError\u001b[0m: name 'X_train_sift' is not defined"
          ]
        }
      ],
      "source": [
        "# Create and train KNN model with SIFT features\n",
        "knn_model_sift = KNeighborsClassifier(n_neighbors=1, weights='distance', metric='euclidean')\n",
        "knn_model_sift.fit(X_train_sift, y_train)"
      ]
    },
    {
      "cell_type": "code",
      "execution_count": null,
      "metadata": {
        "colab": {
          "base_uri": "https://localhost:8080/",
          "height": 176
        },
        "id": "d9_BN_Lxag_B",
        "outputId": "dfc5a7dd-a7fb-4502-f64a-b0e31f54a18d"
      },
      "outputs": [
        {
          "ename": "NameError",
          "evalue": "name 'knn_model' is not defined",
          "output_type": "error",
          "traceback": [
            "\u001b[0;31m---------------------------------------------------------------------------\u001b[0m",
            "\u001b[0;31mNameError\u001b[0m                                 Traceback (most recent call last)",
            "\u001b[0;32m<ipython-input-11-228e4a6bc93e>\u001b[0m in \u001b[0;36m<cell line: 2>\u001b[0;34m()\u001b[0m\n\u001b[1;32m      1\u001b[0m \u001b[0;31m# Evaluate KNN model\u001b[0m\u001b[0;34m\u001b[0m\u001b[0;34m\u001b[0m\u001b[0m\n\u001b[0;32m----> 2\u001b[0;31m \u001b[0maccuracy\u001b[0m \u001b[0;34m=\u001b[0m \u001b[0mknn_model\u001b[0m\u001b[0;34m.\u001b[0m\u001b[0mscore\u001b[0m\u001b[0;34m(\u001b[0m\u001b[0mX_test\u001b[0m\u001b[0;34m,\u001b[0m \u001b[0my_test\u001b[0m\u001b[0;34m)\u001b[0m\u001b[0;34m\u001b[0m\u001b[0;34m\u001b[0m\u001b[0m\n\u001b[0m\u001b[1;32m      3\u001b[0m \u001b[0mprint\u001b[0m\u001b[0;34m(\u001b[0m\u001b[0;34m\"Accuracy of KNN model:\"\u001b[0m\u001b[0;34m,\u001b[0m \u001b[0maccuracy\u001b[0m\u001b[0;34m)\u001b[0m\u001b[0;34m\u001b[0m\u001b[0;34m\u001b[0m\u001b[0m\n",
            "\u001b[0;31mNameError\u001b[0m: name 'knn_model' is not defined"
          ]
        }
      ],
      "source": [
        "# Evaluate KNN model\n",
        "accuracy = knn_model.score(X_test, y_test)\n",
        "print(\"Accuracy of KNN model:\", accuracy)"
      ]
    },
    {
      "cell_type": "code",
      "execution_count": null,
      "metadata": {
        "id": "jqOLDzK9yAoJ"
      },
      "outputs": [],
      "source": [
        "accuracy_sift = knn_model_sift.score(X_test_sift, y_test)\n",
        "print(\"Accuracy of KNN model with SIFT features:\", accuracy_sift)"
      ]
    },
    {
      "cell_type": "code",
      "execution_count": null,
      "metadata": {
        "id": "HinzFx8rahHk"
      },
      "outputs": [],
      "source": [
        "# Load an aircraft image and rescale it to the resolution of 224x224\n",
        "img = Image.open(\"/content/drive/MyDrive/airplane-python/airplanedataset/a10.jpg\").resize((224,224))"
      ]
    },
    {
      "cell_type": "code",
      "execution_count": null,
      "metadata": {
        "colab": {
          "base_uri": "https://localhost:8080/"
        },
        "id": "sEnlrS1ka7bA",
        "outputId": "1aa8165d-cd37-4b32-f918-ae1de74f70ac"
      },
      "outputs": [
        {
          "name": "stdout",
          "output_type": "stream",
          "text": [
            "Predicted class: B-52\n"
          ]
        }
      ],
      "source": [
        "# Convert the image to array\n",
        "img_array = img_to_array(img)\n",
        "\n",
        "# Reshape the array to a single sample\n",
        "img_array = img_array.reshape(1, -1)\n",
        "\n",
        "# Make prediction\n",
        "predicted_class_index = knn_model.predict(img_array)[0]\n",
        "\n",
        "# Define the classes\n",
        "image_classes = train_data.class_indices\n",
        "\n",
        "# Get the predicted class label\n",
        "predicted_class_label = list(image_classes.keys())[list(image_classes.values()).index(predicted_class_index)]\n",
        "\n",
        "print(\"Predicted class:\", predicted_class_label)"
      ]
    }
  ],
  "metadata": {
    "accelerator": "GPU",
    "colab": {
      "gpuType": "T4",
      "provenance": []
    },
    "kernelspec": {
      "display_name": "Python 3",
      "name": "python3"
    },
    "language_info": {
      "name": "python"
    }
  },
  "nbformat": 4,
  "nbformat_minor": 0
}