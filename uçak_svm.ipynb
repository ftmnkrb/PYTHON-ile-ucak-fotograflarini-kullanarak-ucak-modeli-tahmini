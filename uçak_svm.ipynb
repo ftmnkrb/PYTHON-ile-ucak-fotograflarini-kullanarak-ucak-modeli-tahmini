{
  "nbformat": 4,
  "nbformat_minor": 0,
  "metadata": {
    "colab": {
      "provenance": []
    },
    "kernelspec": {
      "name": "python3",
      "display_name": "Python 3"
    },
    "language_info": {
      "name": "python"
    }
  },
  "cells": [
    {
      "cell_type": "code",
      "execution_count": null,
      "metadata": {
        "id": "KOvra-tTBGzo"
      },
      "outputs": [],
      "source": [
        "from tensorflow.keras.preprocessing.image import load_img, img_to_array\n",
        "from tensorflow.keras.applications.vgg16 import preprocess_input\n",
        "import numpy as np\n",
        "from sklearn.svm import SVC\n",
        "from PIL import Image\n",
        "from tensorflow.keras.preprocessing.image import ImageDataGenerator\n",
        "\n",
        "\n",
        "\n",
        "\n"
      ]
    },
    {
      "cell_type": "code",
      "source": [
        "from google.colab import drive\n",
        "drive.mount('/content/drive')"
      ],
      "metadata": {
        "colab": {
          "base_uri": "https://localhost:8080/"
        },
        "id": "B2csW7seBWPY",
        "outputId": "da1c71d5-5655-4c5c-aeae-7ef3d574c0e0"
      },
      "execution_count": null,
      "outputs": [
        {
          "output_type": "stream",
          "name": "stdout",
          "text": [
            "Mounted at /content/drive\n"
          ]
        }
      ]
    },
    {
      "cell_type": "code",
      "source": [
        "# Veri setinin yolu\n",
        "train_files_path = \"/content/drive/MyDrive/airplanedataset/Train\"\n",
        "test_files_path = \"/content/drive/MyDrive/airplanedataset/Test\""
      ],
      "metadata": {
        "id": "Wt2Xq2VXBfC_"
      },
      "execution_count": null,
      "outputs": []
    },
    {
      "cell_type": "code",
      "source": [
        "# Veri artırma ve yükleme\n",
        "train_data = ImageDataGenerator().flow_from_directory(train_files_path, target_size=(224,224), class_mode='categorical')\n",
        "test_data = ImageDataGenerator().flow_from_directory(test_files_path, target_size=(224,224), class_mode='categorical')\n",
        "\n"
      ],
      "metadata": {
        "id": "WFldJ_vJBMAX",
        "colab": {
          "base_uri": "https://localhost:8080/"
        },
        "outputId": "3ee2f461-7350-4671-bfc2-8f25bd51942c"
      },
      "execution_count": null,
      "outputs": [
        {
          "output_type": "stream",
          "name": "stdout",
          "text": [
            "Found 1812 images belonging to 5 classes.\n",
            "Found 100 images belonging to 5 classes.\n"
          ]
        }
      ]
    },
    {
      "cell_type": "code",
      "source": [
        "\n",
        "# SVM modelini tanımlama ve eğitme\n",
        "svm_model = SVC(kernel='poly', C=1.0, random_state=42)  # Lineer SVM kullanıyoruz\n",
        "svm_model.fit(train_data[0][0].reshape(-1, 224*224*3), np.argmax(train_data[0][1], axis=1))  # One-hot encoding etiketlerini düzleştirme\n",
        "\n"
      ],
      "metadata": {
        "id": "Kh_JL1z1BMDf",
        "colab": {
          "base_uri": "https://localhost:8080/",
          "height": 74
        },
        "outputId": "860c0b31-06d5-48b2-9e19-14cd1797970c"
      },
      "execution_count": null,
      "outputs": [
        {
          "output_type": "execute_result",
          "data": {
            "text/plain": [
              "SVC(kernel='poly', random_state=42)"
            ],
            "text/html": [
              "<style>#sk-container-id-1 {color: black;background-color: white;}#sk-container-id-1 pre{padding: 0;}#sk-container-id-1 div.sk-toggleable {background-color: white;}#sk-container-id-1 label.sk-toggleable__label {cursor: pointer;display: block;width: 100%;margin-bottom: 0;padding: 0.3em;box-sizing: border-box;text-align: center;}#sk-container-id-1 label.sk-toggleable__label-arrow:before {content: \"▸\";float: left;margin-right: 0.25em;color: #696969;}#sk-container-id-1 label.sk-toggleable__label-arrow:hover:before {color: black;}#sk-container-id-1 div.sk-estimator:hover label.sk-toggleable__label-arrow:before {color: black;}#sk-container-id-1 div.sk-toggleable__content {max-height: 0;max-width: 0;overflow: hidden;text-align: left;background-color: #f0f8ff;}#sk-container-id-1 div.sk-toggleable__content pre {margin: 0.2em;color: black;border-radius: 0.25em;background-color: #f0f8ff;}#sk-container-id-1 input.sk-toggleable__control:checked~div.sk-toggleable__content {max-height: 200px;max-width: 100%;overflow: auto;}#sk-container-id-1 input.sk-toggleable__control:checked~label.sk-toggleable__label-arrow:before {content: \"▾\";}#sk-container-id-1 div.sk-estimator input.sk-toggleable__control:checked~label.sk-toggleable__label {background-color: #d4ebff;}#sk-container-id-1 div.sk-label input.sk-toggleable__control:checked~label.sk-toggleable__label {background-color: #d4ebff;}#sk-container-id-1 input.sk-hidden--visually {border: 0;clip: rect(1px 1px 1px 1px);clip: rect(1px, 1px, 1px, 1px);height: 1px;margin: -1px;overflow: hidden;padding: 0;position: absolute;width: 1px;}#sk-container-id-1 div.sk-estimator {font-family: monospace;background-color: #f0f8ff;border: 1px dotted black;border-radius: 0.25em;box-sizing: border-box;margin-bottom: 0.5em;}#sk-container-id-1 div.sk-estimator:hover {background-color: #d4ebff;}#sk-container-id-1 div.sk-parallel-item::after {content: \"\";width: 100%;border-bottom: 1px solid gray;flex-grow: 1;}#sk-container-id-1 div.sk-label:hover label.sk-toggleable__label {background-color: #d4ebff;}#sk-container-id-1 div.sk-serial::before {content: \"\";position: absolute;border-left: 1px solid gray;box-sizing: border-box;top: 0;bottom: 0;left: 50%;z-index: 0;}#sk-container-id-1 div.sk-serial {display: flex;flex-direction: column;align-items: center;background-color: white;padding-right: 0.2em;padding-left: 0.2em;position: relative;}#sk-container-id-1 div.sk-item {position: relative;z-index: 1;}#sk-container-id-1 div.sk-parallel {display: flex;align-items: stretch;justify-content: center;background-color: white;position: relative;}#sk-container-id-1 div.sk-item::before, #sk-container-id-1 div.sk-parallel-item::before {content: \"\";position: absolute;border-left: 1px solid gray;box-sizing: border-box;top: 0;bottom: 0;left: 50%;z-index: -1;}#sk-container-id-1 div.sk-parallel-item {display: flex;flex-direction: column;z-index: 1;position: relative;background-color: white;}#sk-container-id-1 div.sk-parallel-item:first-child::after {align-self: flex-end;width: 50%;}#sk-container-id-1 div.sk-parallel-item:last-child::after {align-self: flex-start;width: 50%;}#sk-container-id-1 div.sk-parallel-item:only-child::after {width: 0;}#sk-container-id-1 div.sk-dashed-wrapped {border: 1px dashed gray;margin: 0 0.4em 0.5em 0.4em;box-sizing: border-box;padding-bottom: 0.4em;background-color: white;}#sk-container-id-1 div.sk-label label {font-family: monospace;font-weight: bold;display: inline-block;line-height: 1.2em;}#sk-container-id-1 div.sk-label-container {text-align: center;}#sk-container-id-1 div.sk-container {/* jupyter's `normalize.less` sets `[hidden] { display: none; }` but bootstrap.min.css set `[hidden] { display: none !important; }` so we also need the `!important` here to be able to override the default hidden behavior on the sphinx rendered scikit-learn.org. See: https://github.com/scikit-learn/scikit-learn/issues/21755 */display: inline-block !important;position: relative;}#sk-container-id-1 div.sk-text-repr-fallback {display: none;}</style><div id=\"sk-container-id-1\" class=\"sk-top-container\"><div class=\"sk-text-repr-fallback\"><pre>SVC(kernel=&#x27;poly&#x27;, random_state=42)</pre><b>In a Jupyter environment, please rerun this cell to show the HTML representation or trust the notebook. <br />On GitHub, the HTML representation is unable to render, please try loading this page with nbviewer.org.</b></div><div class=\"sk-container\" hidden><div class=\"sk-item\"><div class=\"sk-estimator sk-toggleable\"><input class=\"sk-toggleable__control sk-hidden--visually\" id=\"sk-estimator-id-1\" type=\"checkbox\" checked><label for=\"sk-estimator-id-1\" class=\"sk-toggleable__label sk-toggleable__label-arrow\">SVC</label><div class=\"sk-toggleable__content\"><pre>SVC(kernel=&#x27;poly&#x27;, random_state=42)</pre></div></div></div></div></div>"
            ]
          },
          "metadata": {},
          "execution_count": 6
        }
      ]
    },
    {
      "cell_type": "markdown",
      "source": [
        "\n",
        "\n",
        "*   kernel='linear'  0,47\n",
        "*   kernel='poly'    0,57\n",
        "*   kernel='sigmoid'   0,19\n",
        "*   kernel='rbf'        0,41\n",
        "\n",
        "\n",
        "\n",
        "\n",
        "'poly', 'sigmoid', 'rbf', 'linear', 'precomputed'"
      ],
      "metadata": {
        "id": "PeuzXtgAJily"
      }
    },
    {
      "cell_type": "code",
      "source": [
        "# Test veri seti ile modeli değerlendirme\n",
        "y_pred = svm_model.predict(test_data[0][0].reshape(-1, 224*224*3))\n",
        "\n"
      ],
      "metadata": {
        "id": "8Hmi3kYvBMGe"
      },
      "execution_count": null,
      "outputs": []
    },
    {
      "cell_type": "code",
      "source": [
        "from sklearn.metrics import accuracy_score, classification_report\n",
        "# Doğruluk ve sınıflandırma raporu hesapla\n",
        "accuracy = accuracy_score(np.argmax(test_data[0][1], axis=1), y_pred)\n",
        "report = classification_report(np.argmax(test_data[0][1], axis=1), y_pred)\n",
        "\n",
        "print(\"Doğruluk:\", accuracy)\n",
        "print(\"Sınıflandırma Raporu:\")\n",
        "print(report)\n"
      ],
      "metadata": {
        "colab": {
          "base_uri": "https://localhost:8080/"
        },
        "id": "jIx1s7CgBMJN",
        "outputId": "e653c0ad-14b3-4b04-f0d2-50e196a694b9"
      },
      "execution_count": null,
      "outputs": [
        {
          "output_type": "stream",
          "name": "stdout",
          "text": [
            "Doğruluk: 0.5625\n",
            "Sınıflandırma Raporu:\n",
            "              precision    recall  f1-score   support\n",
            "\n",
            "           0       0.60      0.60      0.60         5\n",
            "           1       0.38      0.33      0.35         9\n",
            "           2       0.83      0.83      0.83         6\n",
            "           3       0.80      1.00      0.89         4\n",
            "           4       0.38      0.38      0.38         8\n",
            "\n",
            "    accuracy                           0.56        32\n",
            "   macro avg       0.60      0.63      0.61        32\n",
            "weighted avg       0.55      0.56      0.55        32\n",
            "\n"
          ]
        }
      ]
    },
    {
      "cell_type": "code",
      "source": [
        "# Tek bir görsel tahmini\n",
        "img_path = \"/content/drive/MyDrive/airplanedataset/Test/F-22/14-10.jpg\"  # Tahmin edilecek görselin yolunu belirtin\n",
        "img = Image.open(img_path).resize((224,224))\n",
        "img = img_to_array(img)\n",
        "img = np.expand_dims(img, axis=0)\n",
        "img = preprocess_input(img)\n",
        "\n",
        "# Tahmin edilen sınıfların isimlerini içeren bir sözlük oluşturma\n",
        "class_names = {\n",
        "    0: \"A-10 Thunderbolt\",\n",
        "    1: \"Boeing B-52\",\n",
        "    2: \"Boeing E-3 Sentry\",\n",
        "    3: \"F-22 Raptor\",\n",
        "    4: \"KC-10 Extender\"\n",
        "}\n",
        "\n",
        "# Tahmin edilen sınıfın indeksi\n",
        "predicted_class_index = 3  # Örnek olarak, F-22 Raptor sınıfının indeksi 3 olsun\n",
        "\n",
        "# Tahmin edilen sınıfın ismini bulma\n",
        "predicted_class_name = class_names[predicted_class_index]\n",
        "\n",
        "# Tahmin edilen sınıfın ismini yazdırma\n",
        "print(\"Tahmin edilen uçak tipi:\", predicted_class_name)\n",
        "\n",
        "\n",
        "pred = svm_model.predict(img.reshape(-1, 224*224*3))\n",
        "print(\"Tahmin:\", pred)"
      ],
      "metadata": {
        "colab": {
          "base_uri": "https://localhost:8080/"
        },
        "id": "hKGXW4E2BMLz",
        "outputId": "2ff11756-cbd9-407c-c423-b4460a00735f"
      },
      "execution_count": null,
      "outputs": [
        {
          "output_type": "stream",
          "name": "stdout",
          "text": [
            "Tahmin edilen uçak tipi: F-22 Raptor\n",
            "Tahmin: [3]\n"
          ]
        }
      ]
    }
  ]
}